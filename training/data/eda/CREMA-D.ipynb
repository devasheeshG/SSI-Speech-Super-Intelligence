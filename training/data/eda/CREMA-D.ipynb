{
 "cells": [
  {
   "cell_type": "markdown",
   "metadata": {},
   "source": [
    "# [CREMA-D](https://www.kaggle.com/datasets/ejlok1/cremad)\n",
    "\n",
    "## Overview\n",
    "\n",
    "The **CREMA-D** (Crowd-sourced Emotional Multimodal Actors Dataset) contains 7,442 audio clips from 91 actors, including 48 males and 43 females. The actors span a diverse range of ages (20 to 74 years) and represent various races and ethnicities (African American, Asian, Caucasian, Hispanic, and Unspecified). The dataset is designed for emotion recognition tasks, where actors express one of six emotions while delivering pre-determined sentences at varying intensity levels.\n",
    "\n",
    "## File Naming Format\n",
    "\n",
    "Each file in the dataset follows the structure: ``<ActorID><Sentence><Emotion>_<EmotionLevel>.wav``\n",
    "\n",
    "### 1. Actor ID\n",
    "\n",
    "The first **4 digits** represent the unique ID of the actor:\n",
    "\n",
    "- `1001` to `1048`: Male actors\n",
    "- `1002` to `1091`: Female actors\n",
    "\n",
    "Each actor has a different accent, which adds diversity to the dataset.\n",
    "\n",
    "### 2. Sentence\n",
    "\n",
    "The next **3 characters** represent the sentence spoken by the actor. Each sentence has a unique abbreviation made up of its first three letters. Some examples include:\n",
    "\n",
    "- `DFA`: \"Don't Forget A jacket\"\n",
    "- `IEO`: \"It's Eleven O' Clock\"\n",
    "- `IOM`: \"I'm On My way to the meeting\"\n",
    "\n",
    "There are 12 sentences in total, each having a distinct three-letter code.\n",
    "\n",
    "### 3. Emotion\n",
    "\n",
    "The following **3 characters** represent the emotion conveyed in the clip. The dataset covers six distinct emotions:\n",
    "\n",
    "- `ANG`: Anger\n",
    "- `DIS`: Disgust\n",
    "- `FEA`: Fear\n",
    "- `HAP`: Happy\n",
    "- `NEU`: Neutral\n",
    "- `SAD`: Sad\n",
    "\n",
    "### 4. Emotion Level\n",
    "\n",
    "The final **2 characters** represent the intensity or level of the expressed emotion. The dataset includes four emotion levels:\n",
    "\n",
    "- `LO`: Low intensity\n",
    "- `MD`: Medium intensity\n",
    "- `HI`: High intensity\n",
    "- `XX`: Unspecified intensity\n",
    "\n",
    "### Example Filename\n",
    "\n",
    "Let's break down the example filename: ``1001_DFA_ANG_XX.wav``\n",
    "\n",
    "This filename can be interpreted as:\n",
    "\n",
    "1. **Actor ID**: `1001` (Actor 1, male)\n",
    "2. **Sentence**: `DFA` (\"Don't Forget A jacket\")\n",
    "3. **Emotion**: `ANG` (Anger)\n",
    "4. **Emotion Level**: `XX` (Unspecified)"
   ]
  },
  {
   "cell_type": "code",
   "execution_count": 2,
   "metadata": {},
   "outputs": [],
   "source": [
    "import os\n",
    "import pandas as pd\n",
    "import numpy as np\n",
    "import matplotlib.pyplot as plt\n",
    "import seaborn as sns\n",
    "from tqdm import tqdm\n",
    "\n",
    "\n",
    "# Set the style for our plots\n",
    "plt.style.use('ggplot')\n",
    "sns.set_palette(\"deep\")\n"
   ]
  },
  {
   "cell_type": "code",
   "execution_count": 3,
   "metadata": {},
   "outputs": [],
   "source": [
    "# Set the base directory\n",
    "base_dir = '/mnt/nvme/DATASETS/audio_ds/emotion_recog/CREMA-D/data'\n",
    "\n",
    "# Get all wav files in the directory\n",
    "wav_files = [f for f in os.listdir(base_dir) if f.endswith('.wav')]\n"
   ]
  },
  {
   "cell_type": "code",
   "execution_count": 5,
   "metadata": {},
   "outputs": [
    {
     "data": {
      "text/html": [
       "<div>\n",
       "<style scoped>\n",
       "    .dataframe tbody tr th:only-of-type {\n",
       "        vertical-align: middle;\n",
       "    }\n",
       "\n",
       "    .dataframe tbody tr th {\n",
       "        vertical-align: top;\n",
       "    }\n",
       "\n",
       "    .dataframe thead th {\n",
       "        text-align: right;\n",
       "    }\n",
       "</style>\n",
       "<table border=\"1\" class=\"dataframe\">\n",
       "  <thead>\n",
       "    <tr style=\"text-align: right;\">\n",
       "      <th></th>\n",
       "      <th>ActorID</th>\n",
       "      <th>Sentence</th>\n",
       "      <th>Emotion</th>\n",
       "      <th>EmotionLevel</th>\n",
       "    </tr>\n",
       "  </thead>\n",
       "  <tbody>\n",
       "    <tr>\n",
       "      <th>0</th>\n",
       "      <td>1001</td>\n",
       "      <td>DFA</td>\n",
       "      <td>ANG</td>\n",
       "      <td>XX</td>\n",
       "    </tr>\n",
       "    <tr>\n",
       "      <th>1</th>\n",
       "      <td>1001</td>\n",
       "      <td>DFA</td>\n",
       "      <td>DIS</td>\n",
       "      <td>XX</td>\n",
       "    </tr>\n",
       "    <tr>\n",
       "      <th>2</th>\n",
       "      <td>1001</td>\n",
       "      <td>DFA</td>\n",
       "      <td>FEA</td>\n",
       "      <td>XX</td>\n",
       "    </tr>\n",
       "    <tr>\n",
       "      <th>3</th>\n",
       "      <td>1001</td>\n",
       "      <td>DFA</td>\n",
       "      <td>HAP</td>\n",
       "      <td>XX</td>\n",
       "    </tr>\n",
       "    <tr>\n",
       "      <th>4</th>\n",
       "      <td>1001</td>\n",
       "      <td>DFA</td>\n",
       "      <td>NEU</td>\n",
       "      <td>XX</td>\n",
       "    </tr>\n",
       "  </tbody>\n",
       "</table>\n",
       "</div>"
      ],
      "text/plain": [
       "  ActorID Sentence Emotion EmotionLevel\n",
       "0    1001      DFA     ANG           XX\n",
       "1    1001      DFA     DIS           XX\n",
       "2    1001      DFA     FEA           XX\n",
       "3    1001      DFA     HAP           XX\n",
       "4    1001      DFA     NEU           XX"
      ]
     },
     "execution_count": 5,
     "metadata": {},
     "output_type": "execute_result"
    }
   ],
   "source": [
    "# Create a DataFrame with the parsed information\n",
    "data = []\n",
    "for filename in wav_files:\n",
    "    actor_id = filename[:4]\n",
    "    sentence = filename[5:8]\n",
    "    emotion = filename[9:12]\n",
    "    emotion_level = filename[13:15]\n",
    "    data.append([actor_id, sentence, emotion, emotion_level])\n",
    "\n",
    "df = pd.DataFrame(data, columns=['ActorID', 'Sentence', 'Emotion', 'EmotionLevel'])\n",
    "df.head()\n"
   ]
  },
  {
   "cell_type": "code",
   "execution_count": 6,
   "metadata": {},
   "outputs": [
    {
     "name": "stdout",
     "output_type": "stream",
     "text": [
      "Total number of audio clips: 7442\n",
      "Number of unique actors: 91\n",
      "Number of unique sentences: 12\n",
      "Emotions in the dataset: ANG, DIS, FEA, HAP, NEU, SAD\n",
      "Emotion levels in the dataset: XX, HI, LO, MD, X.\n"
     ]
    }
   ],
   "source": [
    "# Basic dataset information\n",
    "print(f\"Total number of audio clips: {len(df)}\")\n",
    "print(f\"Number of unique actors: {df['ActorID'].nunique()}\")\n",
    "print(f\"Number of unique sentences: {df['Sentence'].nunique()}\")\n",
    "print(f\"Emotions in the dataset: {', '.join(df['Emotion'].unique())}\")\n",
    "print(f\"Emotion levels in the dataset: {', '.join(df['EmotionLevel'].unique())}\")\n"
   ]
  },
  {
   "cell_type": "code",
   "execution_count": 8,
   "metadata": {},
   "outputs": [
    {
     "data": {
      "image/png": "[encoded data removed]",
      "text/plain": [
       "<Figure size 1000x600 with 1 Axes>"
      ]
     },
     "metadata": {},
     "output_type": "display_data"
    }
   ],
   "source": [
    "plt.figure(figsize=(10, 6))\n",
    "sns.countplot(x='Emotion', data=df)\n",
    "plt.title('Distribution of Emotions')\n",
    "plt.xlabel('Emotion')\n",
    "plt.ylabel('Count')\n",
    "plt.savefig('emotion_distribution.png', dpi=300, bbox_inches='tight')\n",
    "plt.show()\n"
   ]
  },
  {
   "cell_type": "code",
   "execution_count": null,
   "metadata": {},
   "outputs": [],
   "source": [
    "emotion_by_gender = df.groupby(['Gender', 'Emotion']).size().unstack()\n",
    "emotion_by_gender.plot(kind='bar', stacked=True, figsize=(10, 6))\n",
    "plt.title('Emotion Distribution by Gender')\n",
    "plt.xlabel('Gender')\n",
    "plt.ylabel('Count')\n",
    "plt.legend(title='Emotion', bbox_to_anchor=(1.05, 1), loc='upper left')\n",
    "plt.tight_layout()\n",
    "plt.show()\n"
   ]
  },
  {
   "cell_type": "code",
   "execution_count": null,
   "metadata": {},
   "outputs": [],
   "source": [
    "# Distribution of emotion levels\n",
    "plt.figure(figsize=(10, 6))\n",
    "df['EmotionLevel'].value_counts().plot(kind='bar')\n",
    "plt.title('Distribution of Emotion Levels')\n",
    "plt.xlabel('Emotion Level')\n",
    "plt.ylabel('Count')\n",
    "plt.tight_layout()\n",
    "plt.show()\n"
   ]
  }
 ],
 "metadata": {
  "kernelspec": {
   "display_name": ".venv",
   "language": "python",
   "name": "python3"
  },
  "language_info": {
   "codemirror_mode": {
    "name": "ipython",
    "version": 3
   },
   "file_extension": ".py",
   "mimetype": "text/x-python",
   "name": "python",
   "nbconvert_exporter": "python",
   "pygments_lexer": "ipython3",
   "version": "3.12.3"
  }
 },
 "nbformat": 4,
 "nbformat_minor": 2
}

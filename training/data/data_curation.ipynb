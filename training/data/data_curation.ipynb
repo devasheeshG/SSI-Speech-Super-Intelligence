{
 "cells": [
  {
   "cell_type": "code",
   "execution_count": 1,
   "metadata": {},
   "outputs": [],
   "source": [
    "import os\n",
    "import json\n",
    "import pandas as pd\n",
    "from tqdm import tqdm\n",
    "from datasets import Dataset, DatasetDict, concatenate_datasets, Audio\n"
   ]
  },
  {
   "cell_type": "markdown",
   "metadata": {},
   "source": [
    "## CREMA-D"
   ]
  },
  {
   "cell_type": "code",
   "execution_count": 56,
   "metadata": {},
   "outputs": [],
   "source": [
    "def process_crema_d(file_path):\n",
    "    parts = os.path.basename(file_path).split('_')\n",
    "    actor_id = parts[0]\n",
    "    sentence = parts[1]\n",
    "    emotion = parts[2]\n",
    "    intensity = parts[3].split('.')[0]\n",
    "    if intensity == 'XX':\n",
    "        intensity = 'UNK'\n",
    "    \n",
    "    female_ids = [1002,1003,1004,1006,1007,1008,1009,1010,1012,1013,1018,1020,1021,\n",
    "                1024,1025,1028,1029,1030,1037,1043,1046,1047,1049,1052,1053,1054,\n",
    "                1055,1056,1058,1060,1061,1063,1072,1073,1074,1075,1076,1078,1079,\n",
    "                1082,1084,1089,1091]\n",
    "    gender = 'F' if int(actor_id) in female_ids else 'M'\n",
    "    \n",
    "    text_map = {\n",
    "        'DFA': \"Don't Forget A jacket\",\n",
    "        'IEO': \"It's Eleven O' Clock\",\n",
    "        'IOM': \"I'm On My way to the meeting\"\n",
    "    }\n",
    "    \n",
    "    return {\n",
    "        'file_path': file_path,\n",
    "        'emotion': emotion,\n",
    "        'emotion_intensity': intensity,\n",
    "        'gender': gender,\n",
    "        'age_group': 'AD',\n",
    "        'dataset': 'CREMA-D',\n",
    "        'speaker_id': actor_id,\n",
    "        'text': text_map[sentence],\n",
    "        'utterance_number': '01'\n",
    "    }\n"
   ]
  },
  {
   "cell_type": "markdown",
   "metadata": {},
   "source": [
    "## RAVDESS"
   ]
  },
  {
   "cell_type": "code",
   "execution_count": 57,
   "metadata": {},
   "outputs": [],
   "source": [
    "def process_ravdess(file_path):\n",
    "    parts = os.path.basename(file_path).split('-')\n",
    "    emotion_map = {'01': 'NEU', '02': 'CAL', '03': 'HAP', '04': 'SAD', '05': 'ANG', '06': 'FEA', '07': 'DIS', '08': 'SUR'}\n",
    "    intensity_map = {'01': 'MD', '02': 'HI'}\n",
    "    \n",
    "    emotion = emotion_map[parts[2]]\n",
    "    intensity = intensity_map[parts[3]]\n",
    "    sentence = 'KTD' if parts[4] == '01' else 'DSD'\n",
    "    actor_id = parts[6].split('.')[0]\n",
    "    gender = 'M' if int(actor_id) % 2 == 1 else 'F'\n",
    "    \n",
    "    text_map = {\n",
    "        'KTD': \"Kids are talking by the door\",\n",
    "        'DSD': \"Dogs are sitting by the door\",\n",
    "    }\n",
    "    \n",
    "    return {\n",
    "        'file_path': file_path,\n",
    "        'emotion': emotion,\n",
    "        'emotion_intensity': intensity,\n",
    "        'gender': gender,\n",
    "        'age_group': 'AD',\n",
    "        'dataset': 'RAVDESS',\n",
    "        'speaker_id': actor_id,\n",
    "        'text': text_map[sentence],\n",
    "        'utterance_number': parts[5]\n",
    "    }\n"
   ]
  },
  {
   "cell_type": "markdown",
   "metadata": {},
   "source": [
    "## SAVEE"
   ]
  },
  {
   "cell_type": "code",
   "execution_count": 48,
   "metadata": {},
   "outputs": [],
   "source": [
    "def process_savee(file_path):\n",
    "    parts = os.path.basename(file_path).split('_')\n",
    "    emotion_map = {'a': 'ANG', 'd': 'DIS', 'f': 'FEA', 'h': 'HAP', 'n': 'NEU', 'sa': 'SAD', 'su': 'SUR'}\n",
    "\n",
    "    speaker_id = parts[0]\n",
    "    emotion = emotion_map[parts[1][0:2] if parts[1].startswith('sa') or parts[1].startswith('su') else parts[1][0]]\n",
    "    utterance_number = parts[1][-2:]\n",
    "    \n",
    "    return {\n",
    "        'file_path': file_path,\n",
    "        'emotion': emotion,\n",
    "        'emotion_intensity': 'UNK',\n",
    "        'gender': 'M',\n",
    "        'age_group': 'AD',\n",
    "        'dataset': 'SAVEE',\n",
    "        'speaker_id': speaker_id,\n",
    "        'text': '',\n",
    "        'utterance_number': utterance_number\n",
    "    }\n"
   ]
  },
  {
   "cell_type": "markdown",
   "metadata": {},
   "source": [
    "## TESS"
   ]
  },
  {
   "cell_type": "code",
   "execution_count": 5,
   "metadata": {},
   "outputs": [],
   "source": [
    "def process_tess(file_path):\n",
    "    parts = os.path.basename(file_path).split('_')\n",
    "    emotion_map = {'ang': 'ANG', 'angry': 'ANG', 'dis': 'DIS', 'disgust': 'DIS', 'fea': 'FEA', 'fear': 'FEA', 'hap': 'HAP', 'happy': 'HAP', 'neu': 'NEU', 'neutral': 'NEU', 'ps': 'SUR', 'sad': 'SAD'}\n",
    "    \n",
    "    speaker_id = parts[0]\n",
    "    word = parts[1]\n",
    "    emotion = emotion_map[parts[2].split('.')[0]]\n",
    "    age_group = 'SE' if speaker_id == 'OAF' else 'AD'\n",
    "    \n",
    "    return {\n",
    "        'file_path': file_path,\n",
    "        'emotion': emotion,\n",
    "        'emotion_intensity': 'UNK',\n",
    "        'gender': 'F',\n",
    "        'age_group': age_group,\n",
    "        'dataset': 'TESS',\n",
    "        'speaker_id': speaker_id,\n",
    "        'text': f\"Say the word {word}\",\n",
    "        'utterance_number': '01'\n",
    "    }\n"
   ]
  },
  {
   "cell_type": "markdown",
   "metadata": {},
   "source": [
    "## ESD-HLT_Labs"
   ]
  },
  {
   "cell_type": "code",
   "execution_count": null,
   "metadata": {},
   "outputs": [],
   "source": [
    "def process_esd_hlt_labs(file_path):\n",
    "    \n",
    "    return {\n",
    "        'file_path': file_path,\n",
    "        'emotion': ,\n",
    "        'emotion_intensity': ,\n",
    "        'gender': ,\n",
    "        'age_group': ,\n",
    "        'dataset': 'ESD_HLT_LABS',\n",
    "        'speaker_id': ,\n",
    "        'text': ,\n",
    "        'utterance_number':\n",
    "    }\n"
   ]
  },
  {
   "cell_type": "markdown",
   "metadata": {},
   "source": [
    "## Main function\n"
   ]
  },
  {
   "cell_type": "code",
   "execution_count": 6,
   "metadata": {},
   "outputs": [],
   "source": [
    "# def resample_audio(input_file, output_file, target_sr=16000):\n",
    "#     \"\"\"Resample audio file to 16kHz using ffmpeg\"\"\"\n",
    "#     cmd = [\n",
    "#         'ffmpeg',\n",
    "#         '-i', input_file,\n",
    "#         '-ar', str(target_sr),\n",
    "#         '-ac', '1',\n",
    "#         '-y', output_file\n",
    "#     ]\n",
    "#     try:\n",
    "#         result = subprocess.run(cmd, check=True, capture_output=True, text=True)\n",
    "#         return True\n",
    "#     except subprocess.CalledProcessError as e:\n",
    "#         print(f\"Error resampling {input_file}:\")\n",
    "#         print(f\"Command: {' '.join(cmd)}\")\n",
    "#         print(f\"Return code: {e.returncode}\")\n",
    "#         print(f\"stdout: {e.stdout}\")\n",
    "#         print(f\"stderr: {e.stderr}\")\n",
    "#         return False\n"
   ]
  },
  {
   "cell_type": "code",
   "execution_count": 7,
   "metadata": {},
   "outputs": [],
   "source": [
    "# def process_and_copy_audio(input_file, output_dir, metadata):\n",
    "#     \"\"\"Process audio file and copy to output directory with new naming convention\"\"\"\n",
    "#     new_filename = f\"{metadata['emotion']}_{metadata['emotion_intensity']}_{metadata['gender']}_{metadata['age_group']}_{metadata['dataset']}_{metadata['speaker_id']}_{metadata['utterance_type']}_{metadata['sentence'] or metadata['word']}_{metadata['utterance_number']}.wav\"\n",
    "#     output_file = os.path.join(output_dir, new_filename)\n",
    "#     if resample_audio(input_file, output_file):\n",
    "#         return output_file\n",
    "#     else:\n",
    "#         return None\n"
   ]
  },
  {
   "cell_type": "code",
   "execution_count": 10,
   "metadata": {},
   "outputs": [],
   "source": [
    "def process_dataset(dataset_path, process_func):\n",
    "    data = []\n",
    "    for root, _, files in os.walk(dataset_path):\n",
    "        for file in tqdm(files, desc=f\"Processing {os.path.basename(root)}\"):\n",
    "            if file.endswith('.wav'):\n",
    "                file_path = os.path.join(root, file)\n",
    "                data.append(process_func(file_path))\n",
    "    return Dataset.from_pandas(pd.DataFrame(data))\n"
   ]
  },
  {
   "cell_type": "code",
   "execution_count": 11,
   "metadata": {},
   "outputs": [
    {
     "name": "stderr",
     "output_type": "stream",
     "text": [
      "Processing data: 100%|██████████| 7442/7442 [00:00<00:00, 606591.99it/s]\n",
      "Processing data: 0it [00:00, ?it/s]\n",
      "Processing Actor_01: 100%|██████████| 60/60 [00:00<00:00, 227745.01it/s]\n",
      "Processing Actor_02: 100%|██████████| 60/60 [00:00<00:00, 231943.08it/s]\n",
      "Processing Actor_03: 100%|██████████| 60/60 [00:00<00:00, 408536.10it/s]\n",
      "Processing Actor_04: 100%|██████████| 60/60 [00:00<00:00, 271769.16it/s]\n",
      "Processing Actor_05: 100%|██████████| 60/60 [00:00<00:00, 413231.92it/s]\n",
      "Processing Actor_06: 100%|██████████| 60/60 [00:00<00:00, 339162.05it/s]\n",
      "Processing Actor_07: 100%|██████████| 60/60 [00:00<00:00, 258376.02it/s]\n",
      "Processing Actor_08: 100%|██████████| 60/60 [00:00<00:00, 390167.81it/s]\n",
      "Processing Actor_09: 100%|██████████| 60/60 [00:00<00:00, 411879.28it/s]\n",
      "Processing Actor_10: 100%|██████████| 60/60 [00:00<00:00, 204766.67it/s]\n",
      "Processing Actor_11: 100%|██████████| 60/60 [00:00<00:00, 278383.01it/s]\n",
      "Processing Actor_12: 100%|██████████| 60/60 [00:00<00:00, 290934.38it/s]\n",
      "Processing Actor_13: 100%|██████████| 60/60 [00:00<00:00, 241979.08it/s]\n",
      "Processing Actor_14: 100%|██████████| 60/60 [00:00<00:00, 240131.91it/s]\n",
      "Processing Actor_15: 100%|██████████| 60/60 [00:00<00:00, 235855.90it/s]\n",
      "Processing Actor_16: 100%|██████████| 60/60 [00:00<00:00, 249908.88it/s]\n",
      "Processing Actor_17: 100%|██████████| 60/60 [00:00<00:00, 377298.71it/s]\n",
      "Processing Actor_18: 100%|██████████| 60/60 [00:00<00:00, 387166.52it/s]\n",
      "Processing Actor_19: 100%|██████████| 60/60 [00:00<00:00, 323052.94it/s]\n",
      "Processing Actor_20: 100%|██████████| 60/60 [00:00<00:00, 239902.99it/s]\n",
      "Processing Actor_21: 100%|██████████| 60/60 [00:00<00:00, 247208.49it/s]\n",
      "Processing Actor_22: 100%|██████████| 60/60 [00:00<00:00, 186275.53it/s]\n",
      "Processing Actor_23: 100%|██████████| 60/60 [00:00<00:00, 248920.12it/s]\n",
      "Processing Actor_24: 100%|██████████| 60/60 [00:00<00:00, 389563.84it/s]\n",
      "Processing data: 100%|██████████| 480/480 [00:00<00:00, 525794.18it/s]\n",
      "Processing data: 0it [00:00, ?it/s]\n",
      "Processing OAF_Fear: 100%|██████████| 200/200 [00:00<00:00, 517176.82it/s]\n",
      "Processing OAF_Pleasant_surprise: 100%|██████████| 200/200 [00:00<00:00, 507784.99it/s]\n",
      "Processing OAF_Sad: 100%|██████████| 200/200 [00:00<00:00, 355600.17it/s]\n",
      "Processing OAF_angry: 100%|██████████| 200/200 [00:00<00:00, 465258.35it/s]\n",
      "Processing OAF_disgust: 100%|██████████| 200/200 [00:00<00:00, 513378.70it/s]\n",
      "Processing OAF_happy: 100%|██████████| 200/200 [00:00<00:00, 517815.31it/s]\n",
      "Processing OAF_neutral: 100%|██████████| 200/200 [00:00<00:00, 493737.96it/s]\n",
      "Processing YAF_angry: 100%|██████████| 200/200 [00:00<00:00, 520385.11it/s]\n",
      "Processing YAF_disgust: 100%|██████████| 200/200 [00:00<00:00, 468637.32it/s]\n",
      "Processing YAF_fear: 100%|██████████| 200/200 [00:00<00:00, 477167.69it/s]\n",
      "Processing YAF_happy: 100%|██████████| 200/200 [00:00<00:00, 506252.75it/s]\n",
      "Processing YAF_neutral: 100%|██████████| 200/200 [00:00<00:00, 498135.87it/s]\n",
      "Processing YAF_pleasant_surprised: 100%|██████████| 200/200 [00:00<00:00, 262307.94it/s]\n",
      "Processing YAF_sad: 100%|██████████| 200/200 [00:00<00:00, 311496.77it/s]\n"
     ]
    }
   ],
   "source": [
    "BASE_PATH = '/mnt/nvme/DATASETS/audio_ds/emotion_recog/'\n",
    "DATASET_NAME = 'ssi_emotion_recog'\n",
    "\n",
    "OUTPUT_PATH = BASE_PATH + DATASET_NAME\n",
    "if not os.path.exists(OUTPUT_PATH):\n",
    "    os.makedirs(OUTPUT_PATH)\n",
    "else:\n",
    "    import shutil\n",
    "    shutil.rmtree(OUTPUT_PATH)\n",
    "    os.makedirs(OUTPUT_PATH)\n",
    "\n",
    "crema_d = process_dataset(os.path.join(BASE_PATH, 'CREMA-D', 'data'), process_crema_d)\n",
    "ravdess = process_dataset(os.path.join(BASE_PATH, 'RAVDESS', 'data'), process_ravdess)\n",
    "savee = process_dataset(os.path.join(BASE_PATH, 'SAVEE', 'data'), process_savee)\n",
    "tess = process_dataset(os.path.join(BASE_PATH, 'TESS', 'data'), process_tess)\n",
    "esd_hlt_labs = process_dataset(os.path.join(BASE_PATH, 'ESD-HLT_LABS', 'data'), process_esd_hlt_labs)\n"
   ]
  },
  {
   "cell_type": "code",
   "execution_count": 12,
   "metadata": {},
   "outputs": [
    {
     "data": {
      "text/plain": [
       "Dataset({\n",
       "    features: ['file_path', 'emotion', 'emotion_intensity', 'gender', 'age_group', 'dataset', 'speaker_id', 'utterance_type', 'sentence', 'word', 'utterance_number'],\n",
       "    num_rows: 12162\n",
       "})"
      ]
     },
     "execution_count": 12,
     "metadata": {},
     "output_type": "execute_result"
    }
   ],
   "source": [
    "# Combine datasets\n",
    "combined_dataset = concatenate_datasets([crema_d, ravdess, savee, tess])\n",
    "combined_dataset\n"
   ]
  },
  {
   "cell_type": "code",
   "execution_count": 13,
   "metadata": {},
   "outputs": [],
   "source": [
    "# Create train/validation/test splits\n",
    "TRAIN_SAMPLES = 10_000\n",
    "TEST_SAMPLES = 2_000\n",
    "VALID_SAMPLES = 162\n",
    "\n",
    "if TRAIN_SAMPLES + TEST_SAMPLES + VALID_SAMPLES != len(combined_dataset):\n",
    "    raise ValueError('Train, test, and validation sample counts do not match the dataset size')\n",
    "\n",
    "train_testvalid = combined_dataset.train_test_split(test_size=(TEST_SAMPLES + VALID_SAMPLES) / len(combined_dataset), seed=42)\n",
    "test_valid = train_testvalid['test'].train_test_split(test_size=VALID_SAMPLES / (TEST_SAMPLES + VALID_SAMPLES), seed=42)\n",
    "\n",
    "dataset_dict = DatasetDict({\n",
    "    'train': train_testvalid['train'],\n",
    "    'validation': test_valid['train'],\n",
    "    'test': test_valid['test']\n",
    "})\n"
   ]
  },
  {
   "cell_type": "code",
   "execution_count": 14,
   "metadata": {},
   "outputs": [],
   "source": [
    "# Add audio feature\n",
    "dataset_dict = dataset_dict.cast_column(\"file_path\", Audio(sampling_rate=16000))\n"
   ]
  },
  {
   "cell_type": "code",
   "execution_count": 15,
   "metadata": {},
   "outputs": [
    {
     "data": {
      "application/vnd.jupyter.widget-view+json": {
       "model_id": "26459c137613442190c0f8816133dd26",
       "version_major": 2,
       "version_minor": 0
      },
      "text/plain": [
       "Saving the dataset (0/3 shards):   0%|          | 0/10000 [00:00<?, ? examples/s]"
      ]
     },
     "metadata": {},
     "output_type": "display_data"
    },
    {
     "data": {
      "application/vnd.jupyter.widget-view+json": {
       "model_id": "20647f59956641c9867a576f6af3de16",
       "version_major": 2,
       "version_minor": 0
      },
      "text/plain": [
       "Saving the dataset (0/1 shards):   0%|          | 0/1999 [00:00<?, ? examples/s]"
      ]
     },
     "metadata": {},
     "output_type": "display_data"
    },
    {
     "data": {
      "application/vnd.jupyter.widget-view+json": {
       "model_id": "f159d5b770bc41f2a955560e124cb6c1",
       "version_major": 2,
       "version_minor": 0
      },
      "text/plain": [
       "Saving the dataset (0/1 shards):   0%|          | 0/163 [00:00<?, ? examples/s]"
      ]
     },
     "metadata": {},
     "output_type": "display_data"
    }
   ],
   "source": [
    "# Save dataset\n",
    "dataset_dict.save_to_disk(OUTPUT_PATH)\n"
   ]
  },
  {
   "cell_type": "code",
   "execution_count": 43,
   "metadata": {},
   "outputs": [
    {
     "name": "stdout",
     "output_type": "stream",
     "text": [
      "{'age_group': 'SE',\n",
      " 'dataset': 'TESS',\n",
      " 'emotion': 'ANG',\n",
      " 'emotion_intensity': 'UNK',\n",
      " 'gender': 'F',\n",
      " 'sentence': '',\n",
      " 'speaker_id': 'OAF',\n",
      " 'utterance_number': '01',\n",
      " 'utterance_type': 'WOR',\n",
      " 'word': 'fit'}\n"
     ]
    },
    {
     "data": {
      "text/html": [
       "\n",
       "                <audio  controls=\"controls\" >\n",
       "                    <source src=\"data:audio/wav;base64,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\" type=\"audio/wav\" />\n",
       "                    Your browser does not support the audio element.\n",
       "                </audio>\n",
       "              "
      ],
      "text/plain": [
       "<IPython.lib.display.Audio object>"
      ]
     },
     "execution_count": 43,
     "metadata": {},
     "output_type": "execute_result"
    }
   ],
   "source": [
    "# Visualize some random samples\n",
    "import IPython.display as ipd\n",
    "import random\n",
    "from pprint import pprint\n",
    "\n",
    "sample = random.choice(dataset_dict['train'])\n",
    "audio = sample['file_path']['array']\n",
    "sample.pop('file_path')\n",
    "pprint(sample)\n",
    "ipd.Audio(audio, rate=16000)\n"
   ]
  },
  {
   "cell_type": "code",
   "execution_count": null,
   "metadata": {},
   "outputs": [],
   "source": [
    "# Create metadata\n",
    "metadata = {\n",
    "    'dataset_name': 'Combined Emotion Speech Dataset',\n",
    "    'version': '1.0.0',\n",
    "    'description': 'A combined dataset of CREMA-D, RAVDESS, SAVEE, and TESS emotion speech datasets.',\n",
    "    'homepage': 'https://huggingface.co/datasets/stapesai/ssi-speech-emotion-recognition',\n",
    "    'license': 'See individual dataset licenses',\n",
    "    'citation': 'Please cite the original datasets',\n",
    "    'original_datasets': ['CREMA-D', 'RAVDESS', 'SAVEE', 'TESS']\n",
    "}\n",
    "\n",
    "with open('metadata.json', 'w') as f:\n",
    "    json.dump(metadata, f, indent=2)\n"
   ]
  },
  {
   "cell_type": "code",
   "execution_count": 50,
   "metadata": {},
   "outputs": [
    {
     "data": {
      "application/vnd.jupyter.widget-view+json": {
       "model_id": "d9e1dfe667e347448ab4d78cc5fc8c5a",
       "version_major": 2,
       "version_minor": 0
      },
      "text/plain": [
       "VBox(children=(HTML(value='<center> <img\\nsrc=https://huggingface.co/front/assets/huggingface_logo-noborder.sv…"
      ]
     },
     "metadata": {},
     "output_type": "display_data"
    }
   ],
   "source": [
    "# Login to Hugging Face\n",
    "from huggingface_hub import login, auth_check\n",
    "login()\n"
   ]
  },
  {
   "cell_type": "code",
   "execution_count": 51,
   "metadata": {},
   "outputs": [
    {
     "data": {
      "application/vnd.jupyter.widget-view+json": {
       "model_id": "09c35a731bbc4a50874fa81d2035ff92",
       "version_major": 2,
       "version_minor": 0
      },
      "text/plain": [
       "Uploading the dataset shards:   0%|          | 0/3 [00:00<?, ?it/s]"
      ]
     },
     "metadata": {},
     "output_type": "display_data"
    },
    {
     "data": {
      "application/vnd.jupyter.widget-view+json": {
       "model_id": "19b0dd81dabd40efa8e9aa4256a2a14e",
       "version_major": 2,
       "version_minor": 0
      },
      "text/plain": [
       "Map:   0%|          | 0/3334 [00:00<?, ? examples/s]"
      ]
     },
     "metadata": {},
     "output_type": "display_data"
    },
    {
     "data": {
      "application/vnd.jupyter.widget-view+json": {
       "model_id": "b13e3a140ba34f909ba3407a841fd1c4",
       "version_major": 2,
       "version_minor": 0
      },
      "text/plain": [
       "Creating parquet from Arrow format:   0%|          | 0/34 [00:00<?, ?ba/s]"
      ]
     },
     "metadata": {},
     "output_type": "display_data"
    },
    {
     "data": {
      "application/vnd.jupyter.widget-view+json": {
       "model_id": "d8adb3ed1e0d4fcd96c008853e285057",
       "version_major": 2,
       "version_minor": 0
      },
      "text/plain": [
       "Map:   0%|          | 0/3333 [00:00<?, ? examples/s]"
      ]
     },
     "metadata": {},
     "output_type": "display_data"
    },
    {
     "data": {
      "application/vnd.jupyter.widget-view+json": {
       "model_id": "a6a1ec8a8ee3465182af27a175c6ef09",
       "version_major": 2,
       "version_minor": 0
      },
      "text/plain": [
       "Creating parquet from Arrow format:   0%|          | 0/34 [00:00<?, ?ba/s]"
      ]
     },
     "metadata": {},
     "output_type": "display_data"
    },
    {
     "data": {
      "application/vnd.jupyter.widget-view+json": {
       "model_id": "e3e18beda59041929d0d94632ce483b7",
       "version_major": 2,
       "version_minor": 0
      },
      "text/plain": [
       "Map:   0%|          | 0/3333 [00:00<?, ? examples/s]"
      ]
     },
     "metadata": {},
     "output_type": "display_data"
    },
    {
     "data": {
      "application/vnd.jupyter.widget-view+json": {
       "model_id": "33e84721d081474e8ff54c5d1299ad7f",
       "version_major": 2,
       "version_minor": 0
      },
      "text/plain": [
       "Creating parquet from Arrow format:   0%|          | 0/34 [00:00<?, ?ba/s]"
      ]
     },
     "metadata": {},
     "output_type": "display_data"
    },
    {
     "data": {
      "application/vnd.jupyter.widget-view+json": {
       "model_id": "329f814f3dd04261a8946b13630526e9",
       "version_major": 2,
       "version_minor": 0
      },
      "text/plain": [
       "Uploading the dataset shards:   0%|          | 0/1 [00:00<?, ?it/s]"
      ]
     },
     "metadata": {},
     "output_type": "display_data"
    },
    {
     "data": {
      "application/vnd.jupyter.widget-view+json": {
       "model_id": "08f3ed4e34cf4f3389b9a98f38601085",
       "version_major": 2,
       "version_minor": 0
      },
      "text/plain": [
       "Map:   0%|          | 0/1999 [00:00<?, ? examples/s]"
      ]
     },
     "metadata": {},
     "output_type": "display_data"
    },
    {
     "data": {
      "application/vnd.jupyter.widget-view+json": {
       "model_id": "2c3900328df7444cb03df681066d0264",
       "version_major": 2,
       "version_minor": 0
      },
      "text/plain": [
       "Creating parquet from Arrow format:   0%|          | 0/20 [00:00<?, ?ba/s]"
      ]
     },
     "metadata": {},
     "output_type": "display_data"
    },
    {
     "data": {
      "application/vnd.jupyter.widget-view+json": {
       "model_id": "d0693cafcff740109866e7520ab4c691",
       "version_major": 2,
       "version_minor": 0
      },
      "text/plain": [
       "Uploading the dataset shards:   0%|          | 0/1 [00:00<?, ?it/s]"
      ]
     },
     "metadata": {},
     "output_type": "display_data"
    },
    {
     "data": {
      "application/vnd.jupyter.widget-view+json": {
       "model_id": "546fbf1231be40958e718b0df27c8f45",
       "version_major": 2,
       "version_minor": 0
      },
      "text/plain": [
       "Map:   0%|          | 0/163 [00:00<?, ? examples/s]"
      ]
     },
     "metadata": {},
     "output_type": "display_data"
    },
    {
     "data": {
      "application/vnd.jupyter.widget-view+json": {
       "model_id": "8bd3e834a5d0402fb12969a895369411",
       "version_major": 2,
       "version_minor": 0
      },
      "text/plain": [
       "Creating parquet from Arrow format:   0%|          | 0/2 [00:00<?, ?ba/s]"
      ]
     },
     "metadata": {},
     "output_type": "display_data"
    },
    {
     "data": {
      "text/plain": [
       "CommitInfo(commit_url='https://huggingface.co/datasets/stapesai/ssi-speech-emotion-recognition/commit/8b17864fcdfcc47fc0fa8aa1d8d448f479c22b7c', commit_message='Upload dataset', commit_description='', oid='8b17864fcdfcc47fc0fa8aa1d8d448f479c22b7c', pr_url=None, repo_url=RepoUrl('https://huggingface.co/datasets/stapesai/ssi-speech-emotion-recognition', endpoint='https://huggingface.co', repo_type='dataset', repo_id='stapesai/ssi-speech-emotion-recognition'), pr_revision=None, pr_num=None)"
      ]
     },
     "execution_count": 51,
     "metadata": {},
     "output_type": "execute_result"
    }
   ],
   "source": [
    "dataset_dict.push_to_hub(\n",
    "    'stapesai/ssi-speech-emotion-recognition',\n",
    "    commit_message=None,\n",
    "    commit_description=None,\n",
    ")\n"
   ]
  }
 ],
 "metadata": {
  "kernelspec": {
   "display_name": ".venv",
   "language": "python",
   "name": "python3"
  },
  "language_info": {
   "codemirror_mode": {
    "name": "ipython",
    "version": 3
   },
   "file_extension": ".py",
   "mimetype": "text/x-python",
   "name": "python",
   "nbconvert_exporter": "python",
   "pygments_lexer": "ipython3",
   "version": "3.12.3"
  }
 },
 "nbformat": 4,
 "nbformat_minor": 2
}
